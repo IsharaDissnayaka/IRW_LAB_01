{
  "nbformat": 4,
  "nbformat_minor": 0,
  "metadata": {
    "colab": {
      "provenance": []
    },
    "kernelspec": {
      "name": "python3",
      "display_name": "Python 3"
    },
    "language_info": {
      "name": "python"
    }
  },
  "cells": [
    {
      "cell_type": "markdown",
      "source": [
        "1). Concatenate two lists index-wise\n",
        "\n",
        "\n",
        "teams = [\"India\", \"England\", \"NZ\", \"Aus\"]\n",
        "\n",
        "captains = [\"Kohli\",\"Root\",\"Williaamson\", \"Smith\"]"
      ],
      "metadata": {
        "id": "3MzqUbPBQGP4"
      }
    },
    {
      "cell_type": "code",
      "execution_count": 2,
      "metadata": {
        "colab": {
          "base_uri": "https://localhost:8080/"
        },
        "id": "DGWqCY7EsRRT",
        "outputId": "c33396cb-c72e-48c1-c939-359bc4890c7e"
      },
      "outputs": [
        {
          "output_type": "stream",
          "name": "stdout",
          "text": [
            "(('India', 'Kohli'), ('England', 'Root'), ('NZ', 'Williaamson'), ('Aus', 'Smith'))\n",
            "[('India', 'Kohli'), ('England', 'Root'), ('NZ', 'Williaamson'), ('Aus', 'Smith')]\n",
            "{'India': 'Kohli', 'England': 'Root', 'NZ': 'Williaamson', 'Aus': 'Smith'}\n"
          ]
        }
      ],
      "source": [
        "teams = [\"India\", \"England\", \"NZ\", \"Aus\"]\n",
        "captains = [\"Kohli\",\"Root\",\"Williaamson\", \"Smith\"]\n",
        "anser1=tuple(zip(teams,captains))\n",
        "anser2=list(zip(teams,captains))\n",
        "anser3=dict(zip(teams,captains))\n",
        "print(anser1)\n",
        "print(anser2)\n",
        "print(anser3)"
      ]
    },
    {
      "cell_type": "code",
      "source": [
        "teams = [\"India\", \"England\", \"NZ\", \"Aus\"]\n",
        "captains = [\"Kohli\",\"Root\",\"Williaamson\", \"Smith\"]\n",
        "\n",
        "list3=[i+' '+j for i,j in zip(teams,captains)]\n",
        "print(list3)"
      ],
      "metadata": {
        "colab": {
          "base_uri": "https://localhost:8080/"
        },
        "id": "pDfb3BxFua46",
        "outputId": "48bfdde4-ff6e-4b11-86b8-6e692e3c8a0d"
      },
      "execution_count": null,
      "outputs": [
        {
          "output_type": "stream",
          "name": "stdout",
          "text": [
            "['India Kohli', 'England Root', 'NZ Williaamson', 'Aus Smith']\n"
          ]
        }
      ]
    },
    {
      "cell_type": "code",
      "source": [
        "\n",
        "\n",
        "list1=[1,2,3,4,5,6,7]\n",
        "list2 = [49, 36, 25, 16, 9, 4, 1]\n",
        "\n",
        "print(list1)\n",
        "\n",
        "#multification\n",
        "answer = [n*n for n in list1 ]\n",
        "#revers order\n",
        "Answer2 = list2[::-1]\n",
        "print(Answer2)\n",
        "\n",
        "\n",
        "for x,y in zip(list1,list2):\n",
        "  print(x,y)\n",
        "\n",
        "\n"
      ],
      "metadata": {
        "colab": {
          "base_uri": "https://localhost:8080/"
        },
        "id": "TAQQgnGML7-5",
        "outputId": "2d0c49e2-c1fa-4177-b7bb-0d8f62168630"
      },
      "execution_count": 6,
      "outputs": [
        {
          "output_type": "stream",
          "name": "stdout",
          "text": [
            "[1, 2, 3, 4, 5, 6, 7]\n",
            "[1, 4, 9, 16, 25, 36, 49]\n",
            "1 49\n",
            "2 36\n",
            "3 25\n",
            "4 16\n",
            "5 9\n",
            "6 4\n",
            "7 1\n"
          ]
        }
      ]
    },
    {
      "cell_type": "code",
      "source": [
        "list1 =[10,20,30,40,50,60]\n",
        "\n",
        "answer = [n*10 for n in list1]\n",
        "print(answer)"
      ],
      "metadata": {
        "colab": {
          "base_uri": "https://localhost:8080/"
        },
        "id": "jj2kEvYN2ayy",
        "outputId": "474b6cab-0129-47d5-d33d-a21ddf476ecf"
      },
      "execution_count": 7,
      "outputs": [
        {
          "output_type": "stream",
          "name": "stdout",
          "text": [
            "[100, 200, 300, 400, 500, 600]\n"
          ]
        }
      ]
    },
    {
      "cell_type": "markdown",
      "source": [
        "2) Given a list of books, their prices, and the quantities that you purchased, print out the total\n",
        "amount spent on each item.\n",
        "\n",
        "books= [\"textbooks\", \"exercise books\", \"story book\", \"drawing books\"]\n",
        "\n",
        "prices = [100,60,90,70]\n",
        "\n",
        "quantities = [3,2,1,4]"
      ],
      "metadata": {
        "id": "oQEKn9qEP_GG"
      }
    },
    {
      "cell_type": "code",
      "source": [
        "books= [\"textbooks\", \"exercise books\", \"story book\", \"drawing books\"]\n",
        "prices = [100,60,90,70]\n",
        "quantities = [3,2,1,4]\n",
        "\n",
        "\n",
        "list4 = ['You bought ' + str(a) + ' ' + b + ' for ' + '$'+str(c*a) + ' each.' for a, b, c in zip(quantities, books, prices)]\n",
        "print(list4)\n"
      ],
      "metadata": {
        "colab": {
          "base_uri": "https://localhost:8080/"
        },
        "id": "Z-ybJw9ew78o",
        "outputId": "b635fc2d-a2f4-4b7a-ba51-69ddc8786b93"
      },
      "execution_count": null,
      "outputs": [
        {
          "output_type": "stream",
          "name": "stdout",
          "text": [
            "['You bought 3 textbooks for $300 each.', 'You bought 2 exercise books for $120 each.', 'You bought 1 story book for $90 each.', 'You bought 4 drawing books for $280 each.']\n"
          ]
        }
      ]
    },
    {
      "cell_type": "markdown",
      "source": [
        "3) Given a Python list. Add 10 to each item of the list 1.\n",
        "\n",
        "List 1 = [2,4,6,8,10]\n",
        "\n",
        "Answer: [12, 14, 16, 18, 20]"
      ],
      "metadata": {
        "id": "ojgtxAZMQV0G"
      }
    },
    {
      "cell_type": "code",
      "source": [
        "List_1 = [2,4,6,8,10]\n",
        "\n",
        "List_2 = [a+10 for  a in List_1]\n",
        "print(List_2)\n"
      ],
      "metadata": {
        "colab": {
          "base_uri": "https://localhost:8080/"
        },
        "id": "RgTo3yNaQYkF",
        "outputId": "cf13357d-113d-4762-89aa-56f6a82e3cb9"
      },
      "execution_count": null,
      "outputs": [
        {
          "output_type": "stream",
          "name": "stdout",
          "text": [
            "[12, 14, 16, 18, 20]\n"
          ]
        }
      ]
    },
    {
      "cell_type": "markdown",
      "source": [
        "list1 = [10, 20, 30, 40]\n",
        "\n",
        "list2 = [\"Apples\", \"Mangoes\", \"Oranges\", \"Grapes\"]\n",
        "\n",
        "\n",
        "Answer:\n",
        "\n",
        "10 Grapes\n",
        "\n",
        "20 Oranges\n",
        "\n",
        "30 Mangoes\n",
        "\n",
        "40 Apples"
      ],
      "metadata": {
        "id": "2wQ4ldNRRGd1"
      }
    },
    {
      "cell_type": "code",
      "source": [
        "list1 = [10, 20, 30, 40]\n",
        "\n",
        "list2 = [\"Apples\", \"Mangoes\", \"Oranges\", \"Grapes\"]\n",
        "\n",
        "for x,y in zip(list1,list2):\n",
        "  print(x,y)"
      ],
      "metadata": {
        "colab": {
          "base_uri": "https://localhost:8080/"
        },
        "id": "K5BkqBlcRLUd",
        "outputId": "be0212a5-4c86-4d30-a0e8-6af47dfe914a"
      },
      "execution_count": null,
      "outputs": [
        {
          "output_type": "stream",
          "name": "stdout",
          "text": [
            "10 Apples\n",
            "20 Mangoes\n",
            "30 Oranges\n",
            "40 Grapes\n"
          ]
        }
      ]
    },
    {
      "cell_type": "markdown",
      "source": [
        "5) Given a nested list extend it with adding sub list [\"h\", \"i\", \"j\"] in a such a way that it will look\n",
        "like the following list\n",
        "\n",
        "list1 = [\"a\", \"b\", [\"c\", [\"d\", \"e\", [\"f\", \"g\"], \"k\"], \"l\"], \"m\", \"n\"]\n",
        "\n",
        " sub_list = [\"h\", \"i\", \"j\"]\n",
        "\n",
        "Answer1:\n",
        "\n",
        "['a', 'b', ['c', ['d', 'e', ['f', 'g', 'h', 'i', 'j'], 'k'], 'l'], 'm', 'n\n",
        "']\n",
        "\n",
        "Answer2:\n",
        "\n",
        "['a', 'b', ['c', ['d', 'e', ['f', 'g', ['h', 'i', 'j']], 'k'], 'l'], 'm',\n",
        "'n']\n"
      ],
      "metadata": {
        "id": "IynYGVINRqId"
      }
    },
    {
      "cell_type": "code",
      "source": [
        "list1 = [\"a\", \"b\", [\"c\", [\"d\", \"e\", [\"f\", \"g\"], \"k\"], \"l\"], \"m\", \"n\"]\n",
        "sub_list = [\"h\", \"i\", \"j\"]\n",
        "\n",
        "#list1[2][1][2].append(sub_list)\n",
        "list1[2][1][2].extend(sub_list)\n",
        "print(list1)\n",
        "\n",
        "\n"
      ],
      "metadata": {
        "colab": {
          "base_uri": "https://localhost:8080/"
        },
        "id": "BeMXtPH3Rw-t",
        "outputId": "f4d6db51-1e17-4cc1-822a-ce0e91142c2f"
      },
      "execution_count": null,
      "outputs": [
        {
          "output_type": "stream",
          "name": "stdout",
          "text": [
            "['a', 'b', ['c', ['d', 'e', ['f', 'g', 'h', 'i', 'j'], 'k'], 'l'], 'm', 'n']\n"
          ]
        }
      ]
    },
    {
      "cell_type": "markdown",
      "source": [
        "\n",
        "6) Given a Python list, write a program to remove all occurrences of item 15.\n",
        "\n",
        "List1= [10,15,20,15,32,54,15]\n",
        "\n",
        "Answer = [10,20,32,54]\n"
      ],
      "metadata": {
        "id": "-H_XX6HzVNRj"
      }
    },
    {
      "cell_type": "code",
      "source": [
        "List1= [10,15,20,15,32,54,15]\n",
        "\n",
        "for x in list1:\n",
        "  if x==15:\n",
        "    list1.remove(x)\n",
        "\n",
        "print(list1)"
      ],
      "metadata": {
        "id": "uoFhVT7aVTj7",
        "colab": {
          "base_uri": "https://localhost:8080/"
        },
        "outputId": "a2332213-6eef-49bc-b6e8-8985158a4e0d"
      },
      "execution_count": 9,
      "outputs": [
        {
          "output_type": "stream",
          "name": "stdout",
          "text": [
            "[10, 20, 30, 40, 50, 60]\n"
          ]
        }
      ]
    },
    {
      "cell_type": "markdown",
      "source": [
        "7). Below are the two lists convert it into the dictionary\n",
        "\n",
        "keys = ['Ten', 'Twenty', 'Thirty']\n",
        "\n",
        "values = [10, 20, 30]\n",
        "\n",
        "Answer = {'Ten': 10, 'Twenty': 20, 'Thirty': 30}\n",
        "\n"
      ],
      "metadata": {
        "id": "ASh1r7zSATBr"
      }
    },
    {
      "cell_type": "code",
      "source": [
        "keys = ['Ten', 'Twenty', 'Thirty']\n",
        "values = [10, 20, 30]\n",
        "Answer = {'Ten': 10, 'Twenty': 20, 'Thirty': 30}\n",
        "\n",
        "Answer=dict(zip(keys,values))\n",
        "print(Answer)\n"
      ],
      "metadata": {
        "colab": {
          "base_uri": "https://localhost:8080/"
        },
        "id": "gYJmUGhTAITS",
        "outputId": "673dc1c2-7a02-4c30-82ca-56ed34616057"
      },
      "execution_count": 10,
      "outputs": [
        {
          "output_type": "stream",
          "name": "stdout",
          "text": [
            "{'Ten': 10, 'Twenty': 20, 'Thirty': 30}\n"
          ]
        }
      ]
    },
    {
      "cell_type": "markdown",
      "source": [
        "7). Merge following two Python dictionaries into one\n",
        "\n",
        "dict1 = {'Ten': 10, 'Twenty': 20, 'Thirty': 30}\n",
        "\n",
        "dict2 = {'Thirty': 30, 'Fourty': 40, 'Fifty': 50}\n",
        "\n",
        "Answer = {'Ten': 10, 'Twenty': 20, 'Thirty': 30, 'Fourty': 40, 'Fifty': 50}\n"
      ],
      "metadata": {
        "id": "Qg7d1GN0DshH"
      }
    },
    {
      "cell_type": "code",
      "source": [
        "dict1 = {'Ten': 10, 'Twenty': 20, 'Thirty': 30}\n",
        "\n",
        "dict2 = {'Thirty': 30, 'Fourty': 40, 'Fifty': 50}\n",
        "\n",
        "dict3={**dict1,**dict2}\n",
        "print(dict3)\n",
        "\n",
        "x = dict1 | dict2\n",
        "print(x)"
      ],
      "metadata": {
        "colab": {
          "base_uri": "https://localhost:8080/"
        },
        "id": "IjvIM8VlDzan",
        "outputId": "3c8b776e-0087-4bee-fc43-90ab15957c13"
      },
      "execution_count": 13,
      "outputs": [
        {
          "output_type": "stream",
          "name": "stdout",
          "text": [
            "{'Ten': 10, 'Twenty': 20, 'Thirty': 30, 'Fourty': 40, 'Fifty': 50}\n",
            "{'Ten': 10, 'Twenty': 20, 'Thirty': 30, 'Fourty': 40, 'Fifty': 50}\n"
          ]
        }
      ]
    },
    {
      "cell_type": "markdown",
      "source": [
        "8). Rename key city to location in the following dictionary\n",
        "\n",
        "sampleDict = {\n",
        " \"name\": \"Kelly\",\n",
        " \"age\":25,\n",
        " \"salary\": 8000,\n",
        " \"city\": \"New york\"\n",
        "}\n",
        "\n",
        "Answer = {\n",
        " \"name\": \"Kelly\",\n",
        " \"age\":25,\n",
        " \"salary\": 8000,\n",
        " \"location\": \"New york\"\n",
        "}\n"
      ],
      "metadata": {
        "id": "FmXQVv06EQd_"
      }
    },
    {
      "cell_type": "code",
      "source": [
        "sampleDict = { \"name\": \"Kelly\", \"age\":25, \"salary\": 8000, \"city\": \"New york\" }\n",
        "sampleDict['location']= sampleDict.pop('city')\n",
        "print(sampleDict)"
      ],
      "metadata": {
        "colab": {
          "base_uri": "https://localhost:8080/"
        },
        "id": "R_ULDLSNEX_f",
        "outputId": "c4dcf7c7-7f81-4845-98a4-e58b14b0181b"
      },
      "execution_count": 14,
      "outputs": [
        {
          "output_type": "stream",
          "name": "stdout",
          "text": [
            "{'name': 'Kelly', 'age': 25, 'salary': 8000, 'location': 'New york'}\n"
          ]
        }
      ]
    },
    {
      "cell_type": "markdown",
      "source": [
        "9). Delete set of keys from Python Dictionary\n",
        "\n",
        "sampleDict = {\n",
        " \"name\": \"Kelly\",\n",
        " \"age\":25,\n",
        " \"salary\": 8000,\n",
        " \"city\": \"New york\"\n",
        "\n",
        "\n",
        "}\n",
        "keysToRemove = [\"name\", \"salary\"]\n",
        "\n",
        "Answer = {'city': 'New york', 'age': 25}\n"
      ],
      "metadata": {
        "id": "2QdGd_r2J3Lx"
      }
    },
    {
      "cell_type": "code",
      "source": [
        "\n",
        "sampleDict = {\n",
        " \"name\": \"Kelly\",\n",
        " \"age\":25,\n",
        " \"salary\": 8000,\n",
        " \"city\": \"New york\"\n",
        "\n",
        "}\n",
        "keysToRemove = [\"name\", \"salary\"]\n",
        "Answer = {'city': 'New york', 'age': 25}\n",
        "\n",
        "\n",
        "# for i in keysToRemove:\n",
        "#   sampleDict.pop(i)\n",
        "# print(sampleDict)\n",
        "\n",
        "\n",
        "for i in keysToRemove:\n",
        "  del sampleDict[i]\n",
        "print(sampleDict)"
      ],
      "metadata": {
        "colab": {
          "base_uri": "https://localhost:8080/"
        },
        "id": "HTwegIXeJzV7",
        "outputId": "5851130b-20f1-4009-ef77-1688939438ac"
      },
      "execution_count": 18,
      "outputs": [
        {
          "output_type": "stream",
          "name": "stdout",
          "text": [
            "{'age': 25, 'city': 'New york'}\n"
          ]
        }
      ]
    },
    {
      "cell_type": "markdown",
      "source": [
        "10). Create a new dictionary by extracting the following keys from a given dictionary\n",
        "Given Dictionary\n",
        "\n",
        "sampleDict = {\n",
        " \"name\": \"Kelly\",\n",
        " \"age\":25,\n",
        " \"salary\": 8000,\n",
        " \"city\": \"New york\"\n",
        "\n",
        "}\n",
        "\n",
        "Keys to extract\n",
        "keys = [\"name\", \"salary\"]\n",
        "Answer = {'name': 'Kelly', 'salary': 8000}"
      ],
      "metadata": {
        "id": "pvyAA4EdMDKP"
      }
    },
    {
      "cell_type": "code",
      "source": [
        "sampleDict = {\n",
        " \"name\": \"Kelly\",\n",
        " \"age\":25,\n",
        " \"salary\": 8000,\n",
        " \"city\": \"New york\"\n",
        "\n",
        "}\n",
        "\n",
        "keys = [\"name\", \"salary\"]\n",
        "Answer = {'name': 'Kelly', 'salary': 8000}\n",
        "\n",
        "newDict=dict()\n",
        "for k in sampleDict.keys() and keys:\n",
        "  newDict[k]=sampleDict[k]\n",
        "\n",
        "print(newDict)"
      ],
      "metadata": {
        "colab": {
          "base_uri": "https://localhost:8080/"
        },
        "id": "TI5BYQ5OMO7w",
        "outputId": "bbbb6769-4bd0-41ac-d03d-93a5613a3a28"
      },
      "execution_count": 22,
      "outputs": [
        {
          "output_type": "stream",
          "name": "stdout",
          "text": [
            "{'name': 'Kelly', 'salary': 8000}\n"
          ]
        }
      ]
    },
    {
      "cell_type": "markdown",
      "source": [
        "11). Given a list iterate it and display numbers which are divisible by 5 and if you find number\n",
        "greater than 150 stop the loop iteration\n",
        "\n",
        "list1 = [12, 15, 32, 42, 55, 75, 122, 132, 150, 180, 200]\n",
        "Answer =\n",
        "15\n",
        "55\n",
        "75\n",
        "150"
      ],
      "metadata": {
        "id": "qPoR7iZoTygR"
      }
    },
    {
      "cell_type": "code",
      "source": [
        "\n",
        "list1 = [12, 15, 32, 42, 55, 75, 122, 132, 150, 180, 200]\n",
        "for i in list1:\n",
        "  if i > 150:\n",
        "    break\n",
        "\n",
        "  if i % 5 == 0:\n",
        "    print(i)\n"
      ],
      "metadata": {
        "colab": {
          "base_uri": "https://localhost:8080/"
        },
        "id": "NhLE8fsPTvNa",
        "outputId": "aaad3234-9fbc-4d4e-c2e4-b0d5855d6aba"
      },
      "execution_count": 27,
      "outputs": [
        {
          "output_type": "stream",
          "name": "stdout",
          "text": [
            "15\n",
            "55\n",
            "75\n",
            "150\n"
          ]
        }
      ]
    },
    {
      "cell_type": "markdown",
      "source": [
        "12). Generate a Python list of all the even numbers between 4 to 30\n",
        "\n",
        "Answer = [4, 6, 8, 10, 12, 14, 16, 18, 20, 22, 24, 26, 28]"
      ],
      "metadata": {
        "id": "4Ge9t5LJWtBR"
      }
    },
    {
      "cell_type": "code",
      "source": [
        "list1=[]\n",
        "\n",
        "for i in range(4,30,2):\n",
        "  list1.append(i)\n",
        "print(list1)"
      ],
      "metadata": {
        "colab": {
          "base_uri": "https://localhost:8080/"
        },
        "id": "FjowHzetWvGP",
        "outputId": "c4238772-2da2-4f3c-e39a-d15fcad33f8b"
      },
      "execution_count": 29,
      "outputs": [
        {
          "output_type": "stream",
          "name": "stdout",
          "text": [
            "[4, 6, 8, 10, 12, 14, 16, 18, 20, 22, 24, 26, 28]\n"
          ]
        }
      ]
    },
    {
      "cell_type": "markdown",
      "source": [
        "13). Count all lower case, upper case, digits, and special symbols from a given string\n",
        "\n",
        "input_str = \"P@#yn26at^&i5ve\"\n",
        "\n",
        "Total counts of chars, digits,and symbols\n",
        "\n",
        "Chars = 8\n",
        "\n",
        "Digits = 3\n",
        "\n",
        "Symbol = 4"
      ],
      "metadata": {
        "id": "Dbkytg7oXqGI"
      }
    },
    {
      "cell_type": "code",
      "source": [
        "\n",
        "input_str = \"P@#yn26at^&i5ve\"\n",
        "\n",
        "Chars = 0\n",
        "\n",
        "Digits = 0\n",
        "\n",
        "Symbol = 0\n",
        "\n",
        "keyboard_symbols = [\n",
        "    \"!\", \"@\", \"#\", \"$\", \"%\", \"^\", \"&\", \"*\", \"(\", \")\", \"_\", \"+\", \"-\", \"=\", \"{\", \"}\",\n",
        "    \"[\", \"]\", \"|\", \"\\\\\", \":\", \";\", \"\\\"\", \"'\", \"<\", \">\", \",\", \".\", \"/\", \"?\"\n",
        "]\n",
        "\n",
        "keyboard_digits = [\"0\", \"1\", \"2\", \"3\", \"4\", \"5\", \"6\", \"7\", \"8\", \"9\"]\n",
        "\n",
        "\n",
        "keyboard_characters = [\n",
        "    \"a\", \"b\", \"c\", \"d\", \"e\", \"f\", \"g\", \"h\", \"i\", \"j\", \"k\", \"l\", \"m\", \"n\", \"o\", \"p\", \"q\", \"r\", \"s\", \"t\", \"u\", \"v\", \"w\", \"x\", \"y\", \"z\",\n",
        "    \"A\", \"B\", \"C\", \"D\", \"E\", \"F\", \"G\", \"H\", \"I\", \"J\", \"K\", \"L\", \"M\", \"N\", \"O\", \"P\", \"Q\", \"R\", \"S\", \"T\", \"U\", \"V\", \"W\", \"X\", \"Y\", \"Z\"]\n",
        "\n",
        "for i in input_str:\n",
        "  for x in keyboard_symbols:\n",
        "    if x==i:\n",
        "      Symbol=Symbol+1\n",
        "  for y in keyboard_digits:\n",
        "    if y==i:\n",
        "      Digits=Digits+1\n",
        "  for z in keyboard_characters:\n",
        "    if z==i:\n",
        "      Chars=Chars+1\n",
        "\n",
        "\n",
        "print(Digits)\n",
        "\n",
        "print(Symbol)\n",
        "\n",
        "print(Chars)\n",
        "\n",
        "\n",
        "\n",
        "\n",
        "\n",
        "\n",
        "\n",
        "\n"
      ],
      "metadata": {
        "colab": {
          "base_uri": "https://localhost:8080/"
        },
        "id": "EHiCjkOXX9aH",
        "outputId": "5c11769a-ae5b-469c-da6f-04f5b26350d3"
      },
      "execution_count": 31,
      "outputs": [
        {
          "output_type": "stream",
          "name": "stdout",
          "text": [
            "3\n",
            "4\n",
            "8\n"
          ]
        }
      ]
    },
    {
      "cell_type": "code",
      "source": [
        "from string import digits\n",
        "input_str = \"P@#yn26at^&i5ve\"\n",
        "Chars = 0\n",
        "Digits = 0\n",
        "Symbol = 0\n",
        "\n",
        "for char in input_str:\n",
        "  if char.islower() or char.isupper():\n",
        "    Chars +=1\n",
        "\n",
        "  elif char.isdigit():\n",
        "      Digits += 1\n",
        "  else:\n",
        "\n",
        "    Symbol +=1\n",
        "\n",
        "print(Digits)\n",
        "\n",
        "print(Symbol)\n",
        "\n",
        "print(Chars)\n"
      ],
      "metadata": {
        "colab": {
          "base_uri": "https://localhost:8080/"
        },
        "id": "zQGmdYU2cxHq",
        "outputId": "ef217e62-9a2b-4180-a5d3-9fe4aa0853d6"
      },
      "execution_count": 35,
      "outputs": [
        {
          "output_type": "stream",
          "name": "stdout",
          "text": [
            "3\n",
            "4\n",
            "8\n"
          ]
        }
      ]
    },
    {
      "cell_type": "markdown",
      "source": [
        "14). Given an input string, count occurrences of all characters within a string\n",
        "\n",
        "count(\"pynativepynvepynative\") = {'p': 3, 'y': 3, 'n': 3, 'a': 2, 't': 2, 'i': 2,\n",
        "'v': 3, 'e': 3}\n"
      ],
      "metadata": {
        "id": "jfnBfCP_XuWQ"
      }
    },
    {
      "cell_type": "code",
      "source": [
        "input_str=\"pynativepynvepynative\"\n",
        "newDict=dict()\n",
        "for char in input_str:\n",
        "  count = input_str.count(char)\n",
        "  newDict[char]=count\n",
        "\n",
        "print(newDict)\n"
      ],
      "metadata": {
        "colab": {
          "base_uri": "https://localhost:8080/"
        },
        "id": "QEmee6wVgRaJ",
        "outputId": "ca192d7b-a7fb-47ce-e691-6a5e7869ac33"
      },
      "execution_count": 36,
      "outputs": [
        {
          "output_type": "stream",
          "name": "stdout",
          "text": [
            "{'p': 3, 'y': 3, 'n': 3, 'a': 2, 't': 2, 'i': 2, 'v': 3, 'e': 3}\n"
          ]
        }
      ]
    },
    {
      "cell_type": "markdown",
      "source": [
        "15). Roll dice in such a way that every time you get the same number\n",
        "Dice has 6 numbers (from 1 to 6). Roll dice in such a way that every time you must get the same output number. do\n",
        "this 5 times"
      ],
      "metadata": {
        "id": "KdkYAPsiX5X2"
      }
    },
    {
      "cell_type": "code",
      "source": [
        "import random\n",
        "\n",
        "dice=[1,2,3,4,5,6]\n",
        "for i in range(5):\n",
        "  print(random.choice(dice))"
      ],
      "metadata": {
        "colab": {
          "base_uri": "https://localhost:8080/"
        },
        "id": "CfkoZen0k6Lz",
        "outputId": "fac56a13-3310-42fa-a14b-29af33c5d05c"
      },
      "execution_count": 37,
      "outputs": [
        {
          "output_type": "stream",
          "name": "stdout",
          "text": [
            "4\n",
            "5\n",
            "5\n",
            "3\n",
            "2\n"
          ]
        }
      ]
    }
  ]
}