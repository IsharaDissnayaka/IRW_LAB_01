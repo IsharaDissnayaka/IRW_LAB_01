{
  "nbformat": 4,
  "nbformat_minor": 0,
  "metadata": {
    "colab": {
      "provenance": []
    },
    "kernelspec": {
      "name": "python3",
      "display_name": "Python 3"
    },
    "language_info": {
      "name": "python"
    }
  },
  "cells": [
    {
      "cell_type": "markdown",
      "source": [
        "Imort Drive"
      ],
      "metadata": {
        "id": "3ch1gkVnG8NS"
      }
    },
    {
      "cell_type": "code",
      "execution_count": 4,
      "metadata": {
        "colab": {
          "base_uri": "https://localhost:8080/"
        },
        "id": "uzZEngPCBs-4",
        "outputId": "3c9183fa-06b6-4db9-c9cc-cbf91cb63e3e"
      },
      "outputs": [
        {
          "output_type": "stream",
          "name": "stdout",
          "text": [
            "Mounted at /content/drive\n"
          ]
        }
      ],
      "source": [
        "from google.colab import drive\n",
        "drive.mount('/content/drive')"
      ]
    },
    {
      "cell_type": "markdown",
      "source": [
        "Import Path"
      ],
      "metadata": {
        "id": "snRZotXSG_5Q"
      }
    },
    {
      "cell_type": "code",
      "source": [
        "%cd /content/drive/MyDrive/IRWA/Lab_2"
      ],
      "metadata": {
        "colab": {
          "base_uri": "https://localhost:8080/"
        },
        "id": "uqmom3E7GrOX",
        "outputId": "50a449af-b07a-4ee2-d57b-cafaeebea117"
      },
      "execution_count": 5,
      "outputs": [
        {
          "output_type": "stream",
          "name": "stdout",
          "text": [
            "/content/drive/MyDrive/IRWA/Lab_2\n"
          ]
        }
      ]
    },
    {
      "cell_type": "code",
      "source": [
        "import os\n",
        "def invertIndex():\n",
        "  dictionary = dict()\n",
        "  directory=os.getcwd()+'/inverted'\n",
        "  #print(directory)\n",
        "  files=os.listdir(directory)\n",
        "  #print(files)\n",
        "  for file in files:\n",
        "    with open(os.getcwd()+'/inverted/'+file,'r') as f:\n",
        "      #print(f)\n",
        "      words=f.read().lower().split()\n",
        "      #print(words)\n",
        "      for word in words:\n",
        "        if word not in dictionary:\n",
        "          dictionary[word]=[file]\n",
        "        else:\n",
        "          dictionary[word].append(file)\n",
        "  return dictionary\n",
        "\n"
      ],
      "metadata": {
        "id": "Aubsa8CQMZsU"
      },
      "execution_count": 6,
      "outputs": []
    },
    {
      "cell_type": "code",
      "source": [
        "# b). Write suitable code to do the following retrieval tasks.\n",
        "# I. schizophrenia AND drug\n",
        "\n",
        "def And_op(list1,list2):\n",
        "  if((list1) and (list2)):\n",
        "    return set(list1).intersection(list2)\n",
        "  else:\n",
        "    return()\n",
        "\n",
        "def OR_op(list1,list2):\n",
        "  return set(list1).union(list2)\n",
        "\n",
        "def Not_op(a):\n",
        "   directory=os.getcwd()+'/inverted'\n",
        "   filelist = os.listdir(directory)\n",
        "   return set(filelist).symmetric_difference(a)\n",
        "\n",
        "inidex = invertIndex()\n",
        "for key in inidex:\n",
        "  if key == 'schizophrenia':\n",
        "    list1=inidex[key]\n",
        "    print('schizophrenia',list1)\n",
        "  if key == 'drug':\n",
        "    list2=inidex[key]\n",
        "    print('drug',list2)\n",
        "  if key == 'for':\n",
        "     list3=inidex[key]\n",
        "     print('for',list3)\n",
        "\n",
        "\n",
        "print('for not schizophrenia AND drug',Not_op(And_op(list1,list2)))\n"
      ],
      "metadata": {
        "colab": {
          "base_uri": "https://localhost:8080/"
        },
        "id": "zkPlm39gXFC2",
        "outputId": "dd9d1acc-12f4-4bd8-f259-03e8112b55bb"
      },
      "execution_count": 7,
      "outputs": [
        {
          "output_type": "stream",
          "name": "stdout",
          "text": [
            "drug ['Doc1.txt', 'Doc2.txt']\n",
            "for ['Doc1.txt', 'Doc3.txt', 'Doc4.txt']\n",
            "schizophrenia ['Doc1.txt', 'Doc2.txt', 'Doc3.txt', 'Doc4.txt']\n",
            "for not schizophrenia AND drug {'Doc3.txt', 'Doc4.txt'}\n"
          ]
        }
      ]
    },
    {
      "cell_type": "code",
      "source": [
        "#install nltp and stopwords\n",
        "import nltk\n",
        "nltk.download('stopwords')\n",
        "import nltk\n",
        "nltk.download('punkt')"
      ],
      "metadata": {
        "colab": {
          "base_uri": "https://localhost:8080/"
        },
        "id": "qoaAZh9oxDrm",
        "outputId": "e0ece2d3-481f-4a5f-9c9b-558af0bf52ae"
      },
      "execution_count": 8,
      "outputs": [
        {
          "output_type": "stream",
          "name": "stderr",
          "text": [
            "[nltk_data] Downloading package stopwords to /root/nltk_data...\n",
            "[nltk_data]   Unzipping corpora/stopwords.zip.\n",
            "[nltk_data] Downloading package punkt to /root/nltk_data...\n",
            "[nltk_data]   Unzipping tokenizers/punkt.zip.\n"
          ]
        },
        {
          "output_type": "execute_result",
          "data": {
            "text/plain": [
              "True"
            ]
          },
          "metadata": {},
          "execution_count": 8
        }
      ]
    },
    {
      "cell_type": "code",
      "source": [
        "import nltk\n",
        "from nltk.corpus import stopwords\n",
        "from nltk.tokenize import  word_tokenize\n",
        "from nltk.stem import  PorterStemmer\n",
        "\n",
        "#add new stops words\n",
        "newsw = ['intelligent','work']\n",
        "sw =newsw+stopwords.words('english')\n",
        "print(sw)\n",
        "\n",
        "quote = \"Pythoners are very intelligent and work very pythonly and now they are pythoning their way to success.\"\n",
        "torqnize_word = word_tokenize(quote) #sperate to word to word\n",
        "print(torqnize_word)\n",
        "\n",
        "\n",
        "\n",
        "#remove stop words\n",
        "new_list_stop_word=[]\n",
        "for tw in torqnize_word:\n",
        "  if tw not in sw:\n",
        "     new_list_stop_word.append(tw)\n",
        "print(new_list_stop_word)\n",
        "\n",
        "\n",
        "#become the root word semaing\n",
        "stemmed_words=[]\n",
        "stemmer = PorterStemmer()\n",
        "for i in new_list_stop_word:\n",
        "  stemmed_words.append(stemmer.stem(i))\n",
        "print(stemmed_words)\n",
        "\n",
        "\n",
        "\n",
        "\n",
        "\n"
      ],
      "metadata": {
        "colab": {
          "base_uri": "https://localhost:8080/"
        },
        "id": "a0H3qdl1epjz",
        "outputId": "d1af6809-60e9-4407-8b03-bb6a04e71036"
      },
      "execution_count": 9,
      "outputs": [
        {
          "output_type": "stream",
          "name": "stdout",
          "text": [
            "['intelligent', 'work', 'i', 'me', 'my', 'myself', 'we', 'our', 'ours', 'ourselves', 'you', \"you're\", \"you've\", \"you'll\", \"you'd\", 'your', 'yours', 'yourself', 'yourselves', 'he', 'him', 'his', 'himself', 'she', \"she's\", 'her', 'hers', 'herself', 'it', \"it's\", 'its', 'itself', 'they', 'them', 'their', 'theirs', 'themselves', 'what', 'which', 'who', 'whom', 'this', 'that', \"that'll\", 'these', 'those', 'am', 'is', 'are', 'was', 'were', 'be', 'been', 'being', 'have', 'has', 'had', 'having', 'do', 'does', 'did', 'doing', 'a', 'an', 'the', 'and', 'but', 'if', 'or', 'because', 'as', 'until', 'while', 'of', 'at', 'by', 'for', 'with', 'about', 'against', 'between', 'into', 'through', 'during', 'before', 'after', 'above', 'below', 'to', 'from', 'up', 'down', 'in', 'out', 'on', 'off', 'over', 'under', 'again', 'further', 'then', 'once', 'here', 'there', 'when', 'where', 'why', 'how', 'all', 'any', 'both', 'each', 'few', 'more', 'most', 'other', 'some', 'such', 'no', 'nor', 'not', 'only', 'own', 'same', 'so', 'than', 'too', 'very', 's', 't', 'can', 'will', 'just', 'don', \"don't\", 'should', \"should've\", 'now', 'd', 'll', 'm', 'o', 're', 've', 'y', 'ain', 'aren', \"aren't\", 'couldn', \"couldn't\", 'didn', \"didn't\", 'doesn', \"doesn't\", 'hadn', \"hadn't\", 'hasn', \"hasn't\", 'haven', \"haven't\", 'isn', \"isn't\", 'ma', 'mightn', \"mightn't\", 'mustn', \"mustn't\", 'needn', \"needn't\", 'shan', \"shan't\", 'shouldn', \"shouldn't\", 'wasn', \"wasn't\", 'weren', \"weren't\", 'won', \"won't\", 'wouldn', \"wouldn't\"]\n",
            "['Pythoners', 'are', 'very', 'intelligent', 'and', 'work', 'very', 'pythonly', 'and', 'now', 'they', 'are', 'pythoning', 'their', 'way', 'to', 'success', '.']\n",
            "['Pythoners', 'pythonly', 'pythoning', 'way', 'success', '.']\n",
            "['python', 'pythonli', 'python', 'way', 'success', '.']\n"
          ]
        }
      ]
    },
    {
      "cell_type": "code",
      "source": [],
      "metadata": {
        "id": "nmDZ7wwexMDO"
      },
      "execution_count": null,
      "outputs": []
    }
  ]
}